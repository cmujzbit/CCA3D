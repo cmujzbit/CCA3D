{
 "cells": [
  {
   "cell_type": "code",
   "execution_count": 1,
   "id": "2e20cd59-e484-4db9-b743-59626b1c920e",
   "metadata": {},
   "outputs": [],
   "source": [
    "library(PMA)"
   ]
  },
  {
   "cell_type": "code",
   "execution_count": 2,
   "id": "ff96c4cf-72ee-45ef-b045-0ef3c7d3827a",
   "metadata": {},
   "outputs": [],
   "source": [
    "# Read clean_data.\n",
    "data_mirna <- read.csv(\"../data/clean_data/miRNA_count_data.csv\", header=TRUE, row.names=1)\n",
    "data_rna <- read.csv(\"../data/clean_data/RAN_total_count_data.csv\", header=TRUE, row.names=1)\n",
    "data_protein <- read.csv(\"../data/clean_data/proteins_score_data.csv\", header=TRUE, row.names=1)"
   ]
  },
  {
   "cell_type": "code",
   "execution_count": 3,
   "id": "24c90c64-8542-48ad-8b97-ef7dd1f2db2c",
   "metadata": {},
   "outputs": [],
   "source": [
    "# Transform data to form taken by method implementation.\n",
    "# TODO : Chek what is scales; columns or rows or all matrix?\n",
    "data_mirna_m <- t(data.matrix(data_mirna))\n",
    "data_mirna_s <- scale(data_mirna_m)\n",
    "\n",
    "data_rna_m <- t(data.matrix(data_rna))\n",
    "data_rna_s <- scale(data_rna_m)\n",
    "\n",
    "data_protein_m <- t(data.matrix(data_protein))\n",
    "data_protein_s <- scale(data_protein_m)"
   ]
  },
  {
   "cell_type": "code",
   "execution_count": 4,
   "id": "e256a53f-bd66-445c-8478-220dc9666fc0",
   "metadata": {},
   "outputs": [],
   "source": [
    "# Prepare inputs.\n",
    "data <- list(data_mirna_s, data_rna_s, data_protein_s)"
   ]
  },
  {
   "cell_type": "code",
   "execution_count": 5,
   "id": "ec497cb5-7a28-4112-a6b7-2a26535d4b48",
   "metadata": {},
   "outputs": [
    {
     "name": "stdout",
     "output_type": "stream",
     "text": [
      "123456"
     ]
    }
   ],
   "source": [
    "# Perform analysis\n",
    "results_3dcca <- PMA::MultiCCA(data, type=\"standard\", penalty= 5, standardize =FALSE)"
   ]
  },
  {
   "cell_type": "code",
   "execution_count": 6,
   "id": "984c1fd4-124f-4238-84e2-09d4c9746617",
   "metadata": {},
   "outputs": [
    {
     "name": "stderr",
     "output_type": "stream",
     "text": [
      "Warning message in PMA::PlotCGH(results_3dcca$ws[[1]]):\n",
      "“Since chrom was not entered, PlotCGH assumed that all CGH spots in array are on the same chromosome.”\n",
      "Warning message in PMA::PlotCGH(results_3dcca$ws[[2]]):\n",
      "“Since chrom was not entered, PlotCGH assumed that all CGH spots in array are on the same chromosome.”\n",
      "Warning message in PMA::PlotCGH(results_3dcca$ws[[3]]):\n",
      "“Since chrom was not entered, PlotCGH assumed that all CGH spots in array are on the same chromosome.”\n"
     ]
    },
    {
     "data": {
      "image/png": "[encoded data removed]",
      "text/plain": [
       "Plot with title “”"
      ]
     },
     "metadata": {
      "image/png": {
       "height": 420,
       "width": 420
      }
     },
     "output_type": "display_data"
    }
   ],
   "source": [
    "# Plotting.\n",
    "# TODO : What with those chromosomes, chrom arg?\n",
    "par(mfrow=c(3,1))\n",
    "PMA::PlotCGH(results_3dcca$ws[[1]])#, chrom=rep(1,ncol(mirna_m)))\n",
    "PMA::PlotCGH(results_3dcca$ws[[2]])#, chrom=rep(2,ncol(rna_m)))\n",
    "PMA::PlotCGH(results_3dcca$ws[[3]])#, chrom=rep(3,ncol(protein_m)))results_3dcca"
   ]
  },
  {
   "cell_type": "code",
   "execution_count": 7,
   "id": "2052ed45-126d-4f08-99c8-6fefab119a7e",
   "metadata": {},
   "outputs": [
    {
     "name": "stdout",
     "output_type": "stream",
     "text": [
      "List of 7\n",
      " $ ws     :List of 3\n",
      "  ..$ : num [1:51, 1] 0 0 -0.0443 0 0 ...\n",
      "  ..$ : num [1:3048, 1] 0 0 0 0 0 0 0 0 0 0 ...\n",
      "  ..$ : num [1:777, 1] 0 0 0 0 0 0 0 0 0 0 ...\n",
      " $ ws.init:List of 3\n",
      "  ..$ : num [1:51, 1] 0.0492 0.0701 -0.1669 0.0182 -0.0136 ...\n",
      "  ..$ : num [1:3048, 1] 0.01715 -0.0171 -0.02355 -0.02107 -0.00162 ...\n",
      "  ..$ : num [1:777, 1] 0.01192 0.03426 0.00681 0.00662 -0.04848 ...\n",
      " $ K      : int 3\n",
      " $ call   : language PMA::MultiCCA(xlist = data, penalty = 5, type = \"standard\", standardize = FALSE)\n",
      " $ type   : chr [1:3] \"standard\" \"standard\" \"standard\"\n",
      " $ penalty: num [1:3] 5 5 5\n",
      " $ cors   : num 3\n",
      " - attr(*, \"class\")= chr \"MultiCCA\"\n"
     ]
    }
   ],
   "source": [
    "# TODO Analyze resutls.\n",
    "str(results_3dcca)"
   ]
  }
 ],
 "metadata": {
  "kernelspec": {
   "display_name": "R",
   "language": "R",
   "name": "ir"
  },
  "language_info": {
   "codemirror_mode": "r",
   "file_extension": ".r",
   "mimetype": "text/x-r-source",
   "name": "R",
   "pygments_lexer": "r",
   "version": "4.1.3"
  }
 },
 "nbformat": 4,
 "nbformat_minor": 5
}
